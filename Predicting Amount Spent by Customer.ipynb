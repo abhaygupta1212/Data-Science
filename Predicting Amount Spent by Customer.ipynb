{
 "cells": [
  {
   "cell_type": "markdown",
   "id": "7c63558e",
   "metadata": {},
   "source": [
    "# Predicting the customer spending amount based on customer characteristics for a direct marketing campaign."
   ]
  },
  {
   "cell_type": "code",
   "execution_count": 59,
   "id": "5cf4099d",
   "metadata": {},
   "outputs": [],
   "source": [
    "# Importing the necessary libraries\n",
    "import pandas as pd\n",
    "from sklearn.model_selection import train_test_split\n",
    "from sklearn.linear_model import LinearRegression\n",
    "from sklearn.metrics import r2_score\n",
    "from sklearn.preprocessing import StandardScaler\n",
    "import seaborn as sns\n",
    "from sklearn.preprocessing import PolynomialFeatures"
   ]
  },
  {
   "cell_type": "code",
   "execution_count": 13,
   "id": "bbae3803",
   "metadata": {},
   "outputs": [
    {
     "data": {
      "text/html": [
       "<div>\n",
       "<style scoped>\n",
       "    .dataframe tbody tr th:only-of-type {\n",
       "        vertical-align: middle;\n",
       "    }\n",
       "\n",
       "    .dataframe tbody tr th {\n",
       "        vertical-align: top;\n",
       "    }\n",
       "\n",
       "    .dataframe thead th {\n",
       "        text-align: right;\n",
       "    }\n",
       "</style>\n",
       "<table border=\"1\" class=\"dataframe\">\n",
       "  <thead>\n",
       "    <tr style=\"text-align: right;\">\n",
       "      <th></th>\n",
       "      <th>Age</th>\n",
       "      <th>Gender</th>\n",
       "      <th>OwnHome</th>\n",
       "      <th>Married</th>\n",
       "      <th>Location</th>\n",
       "      <th>Salary</th>\n",
       "      <th>Children</th>\n",
       "      <th>History</th>\n",
       "      <th>Catalogs</th>\n",
       "      <th>AmountSpent</th>\n",
       "    </tr>\n",
       "  </thead>\n",
       "  <tbody>\n",
       "    <tr>\n",
       "      <th>0</th>\n",
       "      <td>Old</td>\n",
       "      <td>Female</td>\n",
       "      <td>Own</td>\n",
       "      <td>Single</td>\n",
       "      <td>Far</td>\n",
       "      <td>47500</td>\n",
       "      <td>0</td>\n",
       "      <td>High</td>\n",
       "      <td>6</td>\n",
       "      <td>755</td>\n",
       "    </tr>\n",
       "    <tr>\n",
       "      <th>1</th>\n",
       "      <td>Middle</td>\n",
       "      <td>Male</td>\n",
       "      <td>Rent</td>\n",
       "      <td>Single</td>\n",
       "      <td>Close</td>\n",
       "      <td>63600</td>\n",
       "      <td>0</td>\n",
       "      <td>High</td>\n",
       "      <td>6</td>\n",
       "      <td>1318</td>\n",
       "    </tr>\n",
       "    <tr>\n",
       "      <th>2</th>\n",
       "      <td>Young</td>\n",
       "      <td>Female</td>\n",
       "      <td>Rent</td>\n",
       "      <td>Single</td>\n",
       "      <td>Close</td>\n",
       "      <td>13500</td>\n",
       "      <td>0</td>\n",
       "      <td>Low</td>\n",
       "      <td>18</td>\n",
       "      <td>296</td>\n",
       "    </tr>\n",
       "    <tr>\n",
       "      <th>3</th>\n",
       "      <td>Middle</td>\n",
       "      <td>Male</td>\n",
       "      <td>Own</td>\n",
       "      <td>Married</td>\n",
       "      <td>Close</td>\n",
       "      <td>85600</td>\n",
       "      <td>1</td>\n",
       "      <td>High</td>\n",
       "      <td>18</td>\n",
       "      <td>2436</td>\n",
       "    </tr>\n",
       "    <tr>\n",
       "      <th>4</th>\n",
       "      <td>Middle</td>\n",
       "      <td>Female</td>\n",
       "      <td>Own</td>\n",
       "      <td>Single</td>\n",
       "      <td>Close</td>\n",
       "      <td>68400</td>\n",
       "      <td>0</td>\n",
       "      <td>High</td>\n",
       "      <td>12</td>\n",
       "      <td>1304</td>\n",
       "    </tr>\n",
       "    <tr>\n",
       "      <th>...</th>\n",
       "      <td>...</td>\n",
       "      <td>...</td>\n",
       "      <td>...</td>\n",
       "      <td>...</td>\n",
       "      <td>...</td>\n",
       "      <td>...</td>\n",
       "      <td>...</td>\n",
       "      <td>...</td>\n",
       "      <td>...</td>\n",
       "      <td>...</td>\n",
       "    </tr>\n",
       "    <tr>\n",
       "      <th>995</th>\n",
       "      <td>Young</td>\n",
       "      <td>Female</td>\n",
       "      <td>Rent</td>\n",
       "      <td>Single</td>\n",
       "      <td>Close</td>\n",
       "      <td>19400</td>\n",
       "      <td>1</td>\n",
       "      <td>NaN</td>\n",
       "      <td>18</td>\n",
       "      <td>384</td>\n",
       "    </tr>\n",
       "    <tr>\n",
       "      <th>996</th>\n",
       "      <td>Middle</td>\n",
       "      <td>Male</td>\n",
       "      <td>Rent</td>\n",
       "      <td>Single</td>\n",
       "      <td>Far</td>\n",
       "      <td>40500</td>\n",
       "      <td>1</td>\n",
       "      <td>NaN</td>\n",
       "      <td>18</td>\n",
       "      <td>1073</td>\n",
       "    </tr>\n",
       "    <tr>\n",
       "      <th>997</th>\n",
       "      <td>Old</td>\n",
       "      <td>Male</td>\n",
       "      <td>Own</td>\n",
       "      <td>Single</td>\n",
       "      <td>Close</td>\n",
       "      <td>44800</td>\n",
       "      <td>0</td>\n",
       "      <td>Medium</td>\n",
       "      <td>24</td>\n",
       "      <td>1417</td>\n",
       "    </tr>\n",
       "    <tr>\n",
       "      <th>998</th>\n",
       "      <td>Middle</td>\n",
       "      <td>Male</td>\n",
       "      <td>Own</td>\n",
       "      <td>Married</td>\n",
       "      <td>Close</td>\n",
       "      <td>79000</td>\n",
       "      <td>2</td>\n",
       "      <td>Medium</td>\n",
       "      <td>18</td>\n",
       "      <td>671</td>\n",
       "    </tr>\n",
       "    <tr>\n",
       "      <th>999</th>\n",
       "      <td>Young</td>\n",
       "      <td>Male</td>\n",
       "      <td>Rent</td>\n",
       "      <td>Married</td>\n",
       "      <td>Close</td>\n",
       "      <td>53600</td>\n",
       "      <td>1</td>\n",
       "      <td>Medium</td>\n",
       "      <td>24</td>\n",
       "      <td>973</td>\n",
       "    </tr>\n",
       "  </tbody>\n",
       "</table>\n",
       "<p>1000 rows × 10 columns</p>\n",
       "</div>"
      ],
      "text/plain": [
       "        Age  Gender OwnHome  Married Location  Salary  Children History  \\\n",
       "0       Old  Female     Own   Single      Far   47500         0    High   \n",
       "1    Middle    Male    Rent   Single    Close   63600         0    High   \n",
       "2     Young  Female    Rent   Single    Close   13500         0     Low   \n",
       "3    Middle    Male     Own  Married    Close   85600         1    High   \n",
       "4    Middle  Female     Own   Single    Close   68400         0    High   \n",
       "..      ...     ...     ...      ...      ...     ...       ...     ...   \n",
       "995   Young  Female    Rent   Single    Close   19400         1     NaN   \n",
       "996  Middle    Male    Rent   Single      Far   40500         1     NaN   \n",
       "997     Old    Male     Own   Single    Close   44800         0  Medium   \n",
       "998  Middle    Male     Own  Married    Close   79000         2  Medium   \n",
       "999   Young    Male    Rent  Married    Close   53600         1  Medium   \n",
       "\n",
       "     Catalogs  AmountSpent  \n",
       "0           6          755  \n",
       "1           6         1318  \n",
       "2          18          296  \n",
       "3          18         2436  \n",
       "4          12         1304  \n",
       "..        ...          ...  \n",
       "995        18          384  \n",
       "996        18         1073  \n",
       "997        24         1417  \n",
       "998        18          671  \n",
       "999        24          973  \n",
       "\n",
       "[1000 rows x 10 columns]"
      ]
     },
     "execution_count": 13,
     "metadata": {},
     "output_type": "execute_result"
    }
   ],
   "source": [
    "# Importing the data\n",
    "data = pd.read_csv(r\"D:\\BackupFolder\\Data Science (Data)\\data\\DirectMarketing.csv\")\n",
    "data"
   ]
  },
  {
   "cell_type": "code",
   "execution_count": 14,
   "id": "70337456",
   "metadata": {},
   "outputs": [
    {
     "data": {
      "text/plain": [
       "Middle    508\n",
       "Young     287\n",
       "Old       205\n",
       "Name: Age, dtype: int64"
      ]
     },
     "execution_count": 14,
     "metadata": {},
     "output_type": "execute_result"
    }
   ],
   "source": [
    "data[\"Age\"].value_counts()"
   ]
  },
  {
   "cell_type": "code",
   "execution_count": 15,
   "id": "b3f231b1",
   "metadata": {},
   "outputs": [
    {
     "data": {
      "text/plain": [
       "High      255\n",
       "Low       230\n",
       "Medium    212\n",
       "Name: History, dtype: int64"
      ]
     },
     "execution_count": 15,
     "metadata": {},
     "output_type": "execute_result"
    }
   ],
   "source": [
    "data[\"History\"].value_counts()"
   ]
  },
  {
   "cell_type": "code",
   "execution_count": 16,
   "id": "90890e7d",
   "metadata": {},
   "outputs": [
    {
     "data": {
      "text/plain": [
       "Age              0\n",
       "Gender           0\n",
       "OwnHome          0\n",
       "Married          0\n",
       "Location         0\n",
       "Salary           0\n",
       "Children         0\n",
       "History        303\n",
       "Catalogs         0\n",
       "AmountSpent      0\n",
       "dtype: int64"
      ]
     },
     "execution_count": 16,
     "metadata": {},
     "output_type": "execute_result"
    }
   ],
   "source": [
    "data.isnull().sum()"
   ]
  },
  {
   "cell_type": "code",
   "execution_count": 17,
   "id": "1f5cad46",
   "metadata": {},
   "outputs": [],
   "source": [
    "# Handelling the Missing Values\n",
    "data['History'] = data[\"History\"].fillna(\"No History\")"
   ]
  },
  {
   "cell_type": "code",
   "execution_count": 18,
   "id": "f6bcd325",
   "metadata": {},
   "outputs": [
    {
     "data": {
      "text/plain": [
       "Age            0\n",
       "Gender         0\n",
       "OwnHome        0\n",
       "Married        0\n",
       "Location       0\n",
       "Salary         0\n",
       "Children       0\n",
       "History        0\n",
       "Catalogs       0\n",
       "AmountSpent    0\n",
       "dtype: int64"
      ]
     },
     "execution_count": 18,
     "metadata": {},
     "output_type": "execute_result"
    }
   ],
   "source": [
    "data.isnull().sum()"
   ]
  },
  {
   "cell_type": "code",
   "execution_count": 19,
   "id": "5c00b55b",
   "metadata": {},
   "outputs": [
    {
     "name": "stdout",
     "output_type": "stream",
     "text": [
      "<class 'pandas.core.frame.DataFrame'>\n",
      "RangeIndex: 1000 entries, 0 to 999\n",
      "Data columns (total 10 columns):\n",
      " #   Column       Non-Null Count  Dtype \n",
      "---  ------       --------------  ----- \n",
      " 0   Age          1000 non-null   object\n",
      " 1   Gender       1000 non-null   object\n",
      " 2   OwnHome      1000 non-null   object\n",
      " 3   Married      1000 non-null   object\n",
      " 4   Location     1000 non-null   object\n",
      " 5   Salary       1000 non-null   int64 \n",
      " 6   Children     1000 non-null   int64 \n",
      " 7   History      1000 non-null   object\n",
      " 8   Catalogs     1000 non-null   int64 \n",
      " 9   AmountSpent  1000 non-null   int64 \n",
      "dtypes: int64(4), object(6)\n",
      "memory usage: 78.2+ KB\n"
     ]
    }
   ],
   "source": [
    "data.info()"
   ]
  },
  {
   "cell_type": "code",
   "execution_count": 21,
   "id": "30eb6e9e",
   "metadata": {},
   "outputs": [],
   "source": [
    "# One Hot Encoding the Categorical Features\n",
    "data2 = pd.get_dummies(data, columns=[\"Age\", \"Gender\", \"OwnHome\", \"Married\", \"Location\", \"History\"], drop_first=True)"
   ]
  },
  {
   "cell_type": "code",
   "execution_count": 22,
   "id": "f0a444ed",
   "metadata": {},
   "outputs": [
    {
     "name": "stdout",
     "output_type": "stream",
     "text": [
      "<class 'pandas.core.frame.DataFrame'>\n",
      "RangeIndex: 1000 entries, 0 to 999\n",
      "Data columns (total 13 columns):\n",
      " #   Column              Non-Null Count  Dtype\n",
      "---  ------              --------------  -----\n",
      " 0   Salary              1000 non-null   int64\n",
      " 1   Children            1000 non-null   int64\n",
      " 2   Catalogs            1000 non-null   int64\n",
      " 3   AmountSpent         1000 non-null   int64\n",
      " 4   Age_Old             1000 non-null   uint8\n",
      " 5   Age_Young           1000 non-null   uint8\n",
      " 6   Gender_Male         1000 non-null   uint8\n",
      " 7   OwnHome_Rent        1000 non-null   uint8\n",
      " 8   Married_Single      1000 non-null   uint8\n",
      " 9   Location_Far        1000 non-null   uint8\n",
      " 10  History_Low         1000 non-null   uint8\n",
      " 11  History_Medium      1000 non-null   uint8\n",
      " 12  History_No History  1000 non-null   uint8\n",
      "dtypes: int64(4), uint8(9)\n",
      "memory usage: 40.2 KB\n"
     ]
    }
   ],
   "source": [
    "data2.info()"
   ]
  },
  {
   "cell_type": "code",
   "execution_count": 25,
   "id": "dc5d0ed0",
   "metadata": {},
   "outputs": [],
   "source": [
    "features  = list(data2.columns)"
   ]
  },
  {
   "cell_type": "code",
   "execution_count": 26,
   "id": "fcd92b8a",
   "metadata": {},
   "outputs": [],
   "source": [
    "features.remove(\"AmountSpent\")"
   ]
  },
  {
   "cell_type": "code",
   "execution_count": 29,
   "id": "13bfa3dc",
   "metadata": {},
   "outputs": [],
   "source": [
    "X = data2[features]\n",
    "Y = data2[\"AmountSpent\"]"
   ]
  },
  {
   "cell_type": "code",
   "execution_count": 30,
   "id": "44091c32",
   "metadata": {},
   "outputs": [],
   "source": [
    "X_Train, X_Test, Y_Train, Y_Test = train_test_split(X, Y, test_size=0.27, random_state=11)"
   ]
  },
  {
   "cell_type": "code",
   "execution_count": 91,
   "id": "b6192dfe",
   "metadata": {},
   "outputs": [
    {
     "data": {
      "text/plain": [
       "array([[-0.55776095, -0.88976112, -1.33872963, ..., -0.56363954,\n",
       "         1.98303617, -0.66749124],\n",
       "       [-1.3986672 ,  0.07679486, -1.33872963, ...,  1.77418355,\n",
       "        -0.50427724, -0.66749124],\n",
       "       [-1.22852274,  0.07679486, -0.41677432, ...,  1.77418355,\n",
       "        -0.50427724, -0.66749124],\n",
       "       ...,\n",
       "       [-0.21092803,  1.04335084, -0.41677432, ..., -0.56363954,\n",
       "        -0.50427724,  1.498147  ],\n",
       "       [ 0.10972883,  1.04335084, -1.33872963, ..., -0.56363954,\n",
       "        -0.50427724,  1.498147  ],\n",
       "       [ 0.41402564,  2.00990681, -0.41677432, ...,  1.77418355,\n",
       "        -0.50427724, -0.66749124]])"
      ]
     },
     "execution_count": 91,
     "metadata": {},
     "output_type": "execute_result"
    }
   ],
   "source": [
    "X_Train"
   ]
  },
  {
   "cell_type": "code",
   "execution_count": 32,
   "id": "6fb165b2",
   "metadata": {},
   "outputs": [],
   "source": [
    "model = LinearRegression()"
   ]
  },
  {
   "cell_type": "code",
   "execution_count": 36,
   "id": "ca181cbf",
   "metadata": {},
   "outputs": [
    {
     "data": {
      "text/plain": [
       "LinearRegression()"
      ]
     },
     "execution_count": 36,
     "metadata": {},
     "output_type": "execute_result"
    }
   ],
   "source": [
    "model.fit(X_Train, Y_Train)"
   ]
  },
  {
   "cell_type": "code",
   "execution_count": 38,
   "id": "bc5c6342",
   "metadata": {},
   "outputs": [],
   "source": [
    "Y_Pred = model.predict(X_Test)"
   ]
  },
  {
   "cell_type": "code",
   "execution_count": 39,
   "id": "c5641518",
   "metadata": {},
   "outputs": [],
   "source": [
    "df1 = pd.DataFrame({\"True\": Y_Test, \"Predicted\" : Y_Pred})"
   ]
  },
  {
   "cell_type": "code",
   "execution_count": 40,
   "id": "ff2142f7",
   "metadata": {},
   "outputs": [
    {
     "data": {
      "text/html": [
       "<div>\n",
       "<style scoped>\n",
       "    .dataframe tbody tr th:only-of-type {\n",
       "        vertical-align: middle;\n",
       "    }\n",
       "\n",
       "    .dataframe tbody tr th {\n",
       "        vertical-align: top;\n",
       "    }\n",
       "\n",
       "    .dataframe thead th {\n",
       "        text-align: right;\n",
       "    }\n",
       "</style>\n",
       "<table border=\"1\" class=\"dataframe\">\n",
       "  <thead>\n",
       "    <tr style=\"text-align: right;\">\n",
       "      <th></th>\n",
       "      <th>True</th>\n",
       "      <th>Predicted</th>\n",
       "    </tr>\n",
       "  </thead>\n",
       "  <tbody>\n",
       "    <tr>\n",
       "      <th>25</th>\n",
       "      <td>655</td>\n",
       "      <td>1435.654433</td>\n",
       "    </tr>\n",
       "    <tr>\n",
       "      <th>464</th>\n",
       "      <td>2710</td>\n",
       "      <td>2603.012482</td>\n",
       "    </tr>\n",
       "    <tr>\n",
       "      <th>372</th>\n",
       "      <td>587</td>\n",
       "      <td>593.937621</td>\n",
       "    </tr>\n",
       "    <tr>\n",
       "      <th>730</th>\n",
       "      <td>1748</td>\n",
       "      <td>1261.537767</td>\n",
       "    </tr>\n",
       "    <tr>\n",
       "      <th>757</th>\n",
       "      <td>445</td>\n",
       "      <td>578.823456</td>\n",
       "    </tr>\n",
       "    <tr>\n",
       "      <th>...</th>\n",
       "      <td>...</td>\n",
       "      <td>...</td>\n",
       "    </tr>\n",
       "    <tr>\n",
       "      <th>188</th>\n",
       "      <td>613</td>\n",
       "      <td>715.299648</td>\n",
       "    </tr>\n",
       "    <tr>\n",
       "      <th>845</th>\n",
       "      <td>1078</td>\n",
       "      <td>810.483565</td>\n",
       "    </tr>\n",
       "    <tr>\n",
       "      <th>331</th>\n",
       "      <td>915</td>\n",
       "      <td>903.327711</td>\n",
       "    </tr>\n",
       "    <tr>\n",
       "      <th>349</th>\n",
       "      <td>79</td>\n",
       "      <td>-405.409222</td>\n",
       "    </tr>\n",
       "    <tr>\n",
       "      <th>557</th>\n",
       "      <td>1624</td>\n",
       "      <td>1657.025273</td>\n",
       "    </tr>\n",
       "  </tbody>\n",
       "</table>\n",
       "<p>270 rows × 2 columns</p>\n",
       "</div>"
      ],
      "text/plain": [
       "     True    Predicted\n",
       "25    655  1435.654433\n",
       "464  2710  2603.012482\n",
       "372   587   593.937621\n",
       "730  1748  1261.537767\n",
       "757   445   578.823456\n",
       "..    ...          ...\n",
       "188   613   715.299648\n",
       "845  1078   810.483565\n",
       "331   915   903.327711\n",
       "349    79  -405.409222\n",
       "557  1624  1657.025273\n",
       "\n",
       "[270 rows x 2 columns]"
      ]
     },
     "execution_count": 40,
     "metadata": {},
     "output_type": "execute_result"
    }
   ],
   "source": [
    "df1"
   ]
  },
  {
   "cell_type": "code",
   "execution_count": 41,
   "id": "ca31b855",
   "metadata": {},
   "outputs": [
    {
     "data": {
      "text/plain": [
       "0.7546167228552363"
      ]
     },
     "execution_count": 41,
     "metadata": {},
     "output_type": "execute_result"
    }
   ],
   "source": [
    "r2_score(Y_Test, Y_Pred)"
   ]
  },
  {
   "cell_type": "markdown",
   "id": "d1952d9a",
   "metadata": {},
   "source": [
    "# Let's attempt feature scaling to enhance model accuracy"
   ]
  },
  {
   "cell_type": "code",
   "execution_count": 44,
   "id": "bade6084",
   "metadata": {},
   "outputs": [],
   "source": [
    "scaler = StandardScaler()"
   ]
  },
  {
   "cell_type": "code",
   "execution_count": 45,
   "id": "cc08fe95",
   "metadata": {},
   "outputs": [
    {
     "data": {
      "text/plain": [
       "StandardScaler()"
      ]
     },
     "execution_count": 45,
     "metadata": {},
     "output_type": "execute_result"
    }
   ],
   "source": [
    "scaler.fit(X_Train)"
   ]
  },
  {
   "cell_type": "code",
   "execution_count": 46,
   "id": "66d663d2",
   "metadata": {},
   "outputs": [],
   "source": [
    "X_Train = scaler.transform(X_Train)"
   ]
  },
  {
   "cell_type": "code",
   "execution_count": 47,
   "id": "27d73a8a",
   "metadata": {},
   "outputs": [],
   "source": [
    "X_Test = scaler.transform(X_Test)"
   ]
  },
  {
   "cell_type": "code",
   "execution_count": 48,
   "id": "60d6e1f8",
   "metadata": {},
   "outputs": [
    {
     "data": {
      "text/plain": [
       "array([[-0.55776095, -0.88976112, -1.33872963, ..., -0.56363954,\n",
       "         1.98303617, -0.66749124],\n",
       "       [-1.3986672 ,  0.07679486, -1.33872963, ...,  1.77418355,\n",
       "        -0.50427724, -0.66749124],\n",
       "       [-1.22852274,  0.07679486, -0.41677432, ...,  1.77418355,\n",
       "        -0.50427724, -0.66749124],\n",
       "       ...,\n",
       "       [-0.21092803,  1.04335084, -0.41677432, ..., -0.56363954,\n",
       "        -0.50427724,  1.498147  ],\n",
       "       [ 0.10972883,  1.04335084, -1.33872963, ..., -0.56363954,\n",
       "        -0.50427724,  1.498147  ],\n",
       "       [ 0.41402564,  2.00990681, -0.41677432, ...,  1.77418355,\n",
       "        -0.50427724, -0.66749124]])"
      ]
     },
     "execution_count": 48,
     "metadata": {},
     "output_type": "execute_result"
    }
   ],
   "source": []
  },
  {
   "cell_type": "code",
   "execution_count": 50,
   "id": "53ff2114",
   "metadata": {},
   "outputs": [
    {
     "data": {
      "text/plain": [
       "LinearRegression()"
      ]
     },
     "execution_count": 50,
     "metadata": {},
     "output_type": "execute_result"
    }
   ],
   "source": [
    "model.fit(X_Train, Y_Train)"
   ]
  },
  {
   "cell_type": "code",
   "execution_count": 51,
   "id": "8e0689b3",
   "metadata": {},
   "outputs": [
    {
     "data": {
      "text/plain": [
       "0.7546167228552358"
      ]
     },
     "execution_count": 51,
     "metadata": {},
     "output_type": "execute_result"
    }
   ],
   "source": [
    "r2_score(Y_Test, model.predict(X_Test))"
   ]
  },
  {
   "cell_type": "code",
   "execution_count": 55,
   "id": "0872557b",
   "metadata": {},
   "outputs": [],
   "source": [
    "df2 = pd.DataFrame({\"True\": Y_Test, \"Predicted\" : model.predict(X_Test)})"
   ]
  },
  {
   "cell_type": "code",
   "execution_count": 56,
   "id": "af4d1979",
   "metadata": {},
   "outputs": [
    {
     "data": {
      "text/html": [
       "<div>\n",
       "<style scoped>\n",
       "    .dataframe tbody tr th:only-of-type {\n",
       "        vertical-align: middle;\n",
       "    }\n",
       "\n",
       "    .dataframe tbody tr th {\n",
       "        vertical-align: top;\n",
       "    }\n",
       "\n",
       "    .dataframe thead th {\n",
       "        text-align: right;\n",
       "    }\n",
       "</style>\n",
       "<table border=\"1\" class=\"dataframe\">\n",
       "  <thead>\n",
       "    <tr style=\"text-align: right;\">\n",
       "      <th></th>\n",
       "      <th>True</th>\n",
       "      <th>Predicted</th>\n",
       "    </tr>\n",
       "  </thead>\n",
       "  <tbody>\n",
       "    <tr>\n",
       "      <th>25</th>\n",
       "      <td>655</td>\n",
       "      <td>1435.654433</td>\n",
       "    </tr>\n",
       "    <tr>\n",
       "      <th>464</th>\n",
       "      <td>2710</td>\n",
       "      <td>2603.012482</td>\n",
       "    </tr>\n",
       "    <tr>\n",
       "      <th>372</th>\n",
       "      <td>587</td>\n",
       "      <td>593.937621</td>\n",
       "    </tr>\n",
       "    <tr>\n",
       "      <th>730</th>\n",
       "      <td>1748</td>\n",
       "      <td>1261.537767</td>\n",
       "    </tr>\n",
       "    <tr>\n",
       "      <th>757</th>\n",
       "      <td>445</td>\n",
       "      <td>578.823456</td>\n",
       "    </tr>\n",
       "    <tr>\n",
       "      <th>...</th>\n",
       "      <td>...</td>\n",
       "      <td>...</td>\n",
       "    </tr>\n",
       "    <tr>\n",
       "      <th>188</th>\n",
       "      <td>613</td>\n",
       "      <td>715.299648</td>\n",
       "    </tr>\n",
       "    <tr>\n",
       "      <th>845</th>\n",
       "      <td>1078</td>\n",
       "      <td>810.483565</td>\n",
       "    </tr>\n",
       "    <tr>\n",
       "      <th>331</th>\n",
       "      <td>915</td>\n",
       "      <td>903.327711</td>\n",
       "    </tr>\n",
       "    <tr>\n",
       "      <th>349</th>\n",
       "      <td>79</td>\n",
       "      <td>-405.409222</td>\n",
       "    </tr>\n",
       "    <tr>\n",
       "      <th>557</th>\n",
       "      <td>1624</td>\n",
       "      <td>1657.025273</td>\n",
       "    </tr>\n",
       "  </tbody>\n",
       "</table>\n",
       "<p>270 rows × 2 columns</p>\n",
       "</div>"
      ],
      "text/plain": [
       "     True    Predicted\n",
       "25    655  1435.654433\n",
       "464  2710  2603.012482\n",
       "372   587   593.937621\n",
       "730  1748  1261.537767\n",
       "757   445   578.823456\n",
       "..    ...          ...\n",
       "188   613   715.299648\n",
       "845  1078   810.483565\n",
       "331   915   903.327711\n",
       "349    79  -405.409222\n",
       "557  1624  1657.025273\n",
       "\n",
       "[270 rows x 2 columns]"
      ]
     },
     "execution_count": 56,
     "metadata": {},
     "output_type": "execute_result"
    }
   ],
   "source": [
    "df2"
   ]
  },
  {
   "cell_type": "code",
   "execution_count": 58,
   "id": "58947d6b",
   "metadata": {},
   "outputs": [
    {
     "data": {
      "text/plain": [
       "<Axes: xlabel='True', ylabel='Predicted'>"
      ]
     },
     "execution_count": 58,
     "metadata": {},
     "output_type": "execute_result"
    },
    {
     "data": {
      "image/png": "[encoded data removed]",
      "text/plain": [
       "<Figure size 640x480 with 1 Axes>"
      ]
     },
     "metadata": {},
     "output_type": "display_data"
    }
   ],
   "source": [
    "sns.scatterplot(data = df2, x = \"True\" , y = \"Predicted\")\n",
    "sns.lineplot(x = [0, 5000], y = [0, 5000], color = 'red')"
   ]
  },
  {
   "cell_type": "markdown",
   "id": "77275642",
   "metadata": {},
   "source": [
    "# Let's implement polynomial regression of degree 2 to enhance the model accuracy."
   ]
  },
  {
   "cell_type": "code",
   "execution_count": 84,
   "id": "36996950",
   "metadata": {},
   "outputs": [],
   "source": [
    "poly = PolynomialFeatures(degree=2, include_bias=True)\n",
    "x_train_trans = poly.fit_transform(X_Train)\n",
    "x_test_trans = poly.transform(X_Test)"
   ]
  },
  {
   "cell_type": "code",
   "execution_count": 85,
   "id": "ee8466fe",
   "metadata": {},
   "outputs": [
    {
     "data": {
      "text/plain": [
       "LinearRegression()"
      ]
     },
     "execution_count": 85,
     "metadata": {},
     "output_type": "execute_result"
    }
   ],
   "source": [
    "model.fit(x_train_trans, Y_Train)"
   ]
  },
  {
   "cell_type": "code",
   "execution_count": 86,
   "id": "34012bf3",
   "metadata": {},
   "outputs": [
    {
     "data": {
      "text/plain": [
       "0.8195205931355528"
      ]
     },
     "execution_count": 86,
     "metadata": {},
     "output_type": "execute_result"
    }
   ],
   "source": [
    "r2_score(Y_Test, model.predict(x_test_trans))"
   ]
  },
  {
   "cell_type": "markdown",
   "id": "4eeb7b65",
   "metadata": {},
   "source": [
    "Polynomial regression resulted in a significant accuracy improvement, increasing from 75% to 81%."
   ]
  },
  {
   "cell_type": "code",
   "execution_count": 87,
   "id": "aabd0f61",
   "metadata": {},
   "outputs": [],
   "source": [
    "df2 = pd.DataFrame({\"True\": Y_Test, \"Predicted\" : model.predict(x_test_trans)})"
   ]
  },
  {
   "cell_type": "code",
   "execution_count": 88,
   "id": "b04b1a4d",
   "metadata": {},
   "outputs": [
    {
     "data": {
      "text/html": [
       "<div>\n",
       "<style scoped>\n",
       "    .dataframe tbody tr th:only-of-type {\n",
       "        vertical-align: middle;\n",
       "    }\n",
       "\n",
       "    .dataframe tbody tr th {\n",
       "        vertical-align: top;\n",
       "    }\n",
       "\n",
       "    .dataframe thead th {\n",
       "        text-align: right;\n",
       "    }\n",
       "</style>\n",
       "<table border=\"1\" class=\"dataframe\">\n",
       "  <thead>\n",
       "    <tr style=\"text-align: right;\">\n",
       "      <th></th>\n",
       "      <th>True</th>\n",
       "      <th>Predicted</th>\n",
       "    </tr>\n",
       "  </thead>\n",
       "  <tbody>\n",
       "    <tr>\n",
       "      <th>25</th>\n",
       "      <td>655</td>\n",
       "      <td>760.53125</td>\n",
       "    </tr>\n",
       "    <tr>\n",
       "      <th>464</th>\n",
       "      <td>2710</td>\n",
       "      <td>3200.09375</td>\n",
       "    </tr>\n",
       "    <tr>\n",
       "      <th>372</th>\n",
       "      <td>587</td>\n",
       "      <td>497.06250</td>\n",
       "    </tr>\n",
       "    <tr>\n",
       "      <th>730</th>\n",
       "      <td>1748</td>\n",
       "      <td>1460.65625</td>\n",
       "    </tr>\n",
       "    <tr>\n",
       "      <th>757</th>\n",
       "      <td>445</td>\n",
       "      <td>699.59375</td>\n",
       "    </tr>\n",
       "    <tr>\n",
       "      <th>...</th>\n",
       "      <td>...</td>\n",
       "      <td>...</td>\n",
       "    </tr>\n",
       "    <tr>\n",
       "      <th>188</th>\n",
       "      <td>613</td>\n",
       "      <td>631.59375</td>\n",
       "    </tr>\n",
       "    <tr>\n",
       "      <th>845</th>\n",
       "      <td>1078</td>\n",
       "      <td>923.84375</td>\n",
       "    </tr>\n",
       "    <tr>\n",
       "      <th>331</th>\n",
       "      <td>915</td>\n",
       "      <td>1282.06250</td>\n",
       "    </tr>\n",
       "    <tr>\n",
       "      <th>349</th>\n",
       "      <td>79</td>\n",
       "      <td>-44.59375</td>\n",
       "    </tr>\n",
       "    <tr>\n",
       "      <th>557</th>\n",
       "      <td>1624</td>\n",
       "      <td>1385.25000</td>\n",
       "    </tr>\n",
       "  </tbody>\n",
       "</table>\n",
       "<p>270 rows × 2 columns</p>\n",
       "</div>"
      ],
      "text/plain": [
       "     True   Predicted\n",
       "25    655   760.53125\n",
       "464  2710  3200.09375\n",
       "372   587   497.06250\n",
       "730  1748  1460.65625\n",
       "757   445   699.59375\n",
       "..    ...         ...\n",
       "188   613   631.59375\n",
       "845  1078   923.84375\n",
       "331   915  1282.06250\n",
       "349    79   -44.59375\n",
       "557  1624  1385.25000\n",
       "\n",
       "[270 rows x 2 columns]"
      ]
     },
     "execution_count": 88,
     "metadata": {},
     "output_type": "execute_result"
    }
   ],
   "source": [
    "df2"
   ]
  },
  {
   "cell_type": "code",
   "execution_count": 89,
   "id": "a00462b9",
   "metadata": {},
   "outputs": [
    {
     "data": {
      "text/plain": [
       "<Axes: xlabel='True', ylabel='Predicted'>"
      ]
     },
     "execution_count": 89,
     "metadata": {},
     "output_type": "execute_result"
    },
    {
     "data": {
      "image/png": "[encoded data removed]",
      "text/plain": [
       "<Figure size 640x480 with 1 Axes>"
      ]
     },
     "metadata": {},
     "output_type": "display_data"
    }
   ],
   "source": [
    "sns.scatterplot(data = df2, x = \"True\" , y = \"Predicted\")\n",
    "sns.lineplot(x = [0, 5000], y = [0, 5000], color = 'red')"
   ]
  },
  {
   "cell_type": "code",
   "execution_count": null,
   "id": "b622df54",
   "metadata": {},
   "outputs": [],
   "source": []
  }
 ],
 "metadata": {
  "kernelspec": {
   "display_name": "Python 3 (ipykernel)",
   "language": "python",
   "name": "python3"
  },
  "language_info": {
   "codemirror_mode": {
    "name": "ipython",
    "version": 3
   },
   "file_extension": ".py",
   "mimetype": "text/x-python",
   "name": "python",
   "nbconvert_exporter": "python",
   "pygments_lexer": "ipython3",
   "version": "3.9.13"
  }
 },
 "nbformat": 4,
 "nbformat_minor": 5
}
