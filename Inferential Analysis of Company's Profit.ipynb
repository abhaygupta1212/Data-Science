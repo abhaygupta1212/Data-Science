{
 "cells": [
  {
   "cell_type": "code",
   "execution_count": 284,
   "id": "84f85cfa",
   "metadata": {},
   "outputs": [],
   "source": [
    "import pandas as pd\n",
    "import seaborn as sns\n",
    "import numpy as np\n",
    "from sklearn.model_selection import train_test_split\n",
    "from sklearn.linear_model import LinearRegression\n",
    "from sklearn.metrics import r2_score\n",
    "import statsmodels.api as sm\n",
    "from sklearn.preprocessing import StandardScaler"
   ]
  },
  {
   "cell_type": "code",
   "execution_count": 285,
   "id": "8559cfcd",
   "metadata": {},
   "outputs": [],
   "source": [
    "data = pd.read_csv(r\"D:\\BackupFolder\\Data Science (Data)\\data\\Profit Data\\1000_Companies.csv\")"
   ]
  },
  {
   "cell_type": "code",
   "execution_count": 286,
   "id": "1c5c49eb",
   "metadata": {},
   "outputs": [
    {
     "data": {
      "text/html": [
       "<div>\n",
       "<style scoped>\n",
       "    .dataframe tbody tr th:only-of-type {\n",
       "        vertical-align: middle;\n",
       "    }\n",
       "\n",
       "    .dataframe tbody tr th {\n",
       "        vertical-align: top;\n",
       "    }\n",
       "\n",
       "    .dataframe thead th {\n",
       "        text-align: right;\n",
       "    }\n",
       "</style>\n",
       "<table border=\"1\" class=\"dataframe\">\n",
       "  <thead>\n",
       "    <tr style=\"text-align: right;\">\n",
       "      <th></th>\n",
       "      <th>R&amp;D Spend</th>\n",
       "      <th>Administration</th>\n",
       "      <th>Marketing Spend</th>\n",
       "      <th>State</th>\n",
       "      <th>Profit</th>\n",
       "    </tr>\n",
       "  </thead>\n",
       "  <tbody>\n",
       "    <tr>\n",
       "      <th>0</th>\n",
       "      <td>165349.20</td>\n",
       "      <td>136897.800</td>\n",
       "      <td>471784.1000</td>\n",
       "      <td>New York</td>\n",
       "      <td>192261.83000</td>\n",
       "    </tr>\n",
       "    <tr>\n",
       "      <th>1</th>\n",
       "      <td>162597.70</td>\n",
       "      <td>151377.590</td>\n",
       "      <td>443898.5300</td>\n",
       "      <td>California</td>\n",
       "      <td>191792.06000</td>\n",
       "    </tr>\n",
       "    <tr>\n",
       "      <th>2</th>\n",
       "      <td>153441.51</td>\n",
       "      <td>101145.550</td>\n",
       "      <td>407934.5400</td>\n",
       "      <td>Florida</td>\n",
       "      <td>191050.39000</td>\n",
       "    </tr>\n",
       "    <tr>\n",
       "      <th>3</th>\n",
       "      <td>144372.41</td>\n",
       "      <td>118671.850</td>\n",
       "      <td>383199.6200</td>\n",
       "      <td>New York</td>\n",
       "      <td>182901.99000</td>\n",
       "    </tr>\n",
       "    <tr>\n",
       "      <th>4</th>\n",
       "      <td>142107.34</td>\n",
       "      <td>91391.770</td>\n",
       "      <td>366168.4200</td>\n",
       "      <td>Florida</td>\n",
       "      <td>166187.94000</td>\n",
       "    </tr>\n",
       "    <tr>\n",
       "      <th>...</th>\n",
       "      <td>...</td>\n",
       "      <td>...</td>\n",
       "      <td>...</td>\n",
       "      <td>...</td>\n",
       "      <td>...</td>\n",
       "    </tr>\n",
       "    <tr>\n",
       "      <th>995</th>\n",
       "      <td>54135.00</td>\n",
       "      <td>118451.999</td>\n",
       "      <td>173232.6695</td>\n",
       "      <td>California</td>\n",
       "      <td>95279.96251</td>\n",
       "    </tr>\n",
       "    <tr>\n",
       "      <th>996</th>\n",
       "      <td>134970.00</td>\n",
       "      <td>130390.080</td>\n",
       "      <td>329204.0228</td>\n",
       "      <td>California</td>\n",
       "      <td>164336.60550</td>\n",
       "    </tr>\n",
       "    <tr>\n",
       "      <th>997</th>\n",
       "      <td>100275.47</td>\n",
       "      <td>241926.310</td>\n",
       "      <td>227142.8200</td>\n",
       "      <td>California</td>\n",
       "      <td>413956.48000</td>\n",
       "    </tr>\n",
       "    <tr>\n",
       "      <th>998</th>\n",
       "      <td>128456.23</td>\n",
       "      <td>321652.140</td>\n",
       "      <td>281692.3200</td>\n",
       "      <td>California</td>\n",
       "      <td>333962.19000</td>\n",
       "    </tr>\n",
       "    <tr>\n",
       "      <th>999</th>\n",
       "      <td>161181.72</td>\n",
       "      <td>270939.860</td>\n",
       "      <td>295442.1700</td>\n",
       "      <td>New York</td>\n",
       "      <td>476485.43000</td>\n",
       "    </tr>\n",
       "  </tbody>\n",
       "</table>\n",
       "<p>1000 rows × 5 columns</p>\n",
       "</div>"
      ],
      "text/plain": [
       "     R&D Spend  Administration  Marketing Spend       State        Profit\n",
       "0    165349.20      136897.800      471784.1000    New York  192261.83000\n",
       "1    162597.70      151377.590      443898.5300  California  191792.06000\n",
       "2    153441.51      101145.550      407934.5400     Florida  191050.39000\n",
       "3    144372.41      118671.850      383199.6200    New York  182901.99000\n",
       "4    142107.34       91391.770      366168.4200     Florida  166187.94000\n",
       "..         ...             ...              ...         ...           ...\n",
       "995   54135.00      118451.999      173232.6695  California   95279.96251\n",
       "996  134970.00      130390.080      329204.0228  California  164336.60550\n",
       "997  100275.47      241926.310      227142.8200  California  413956.48000\n",
       "998  128456.23      321652.140      281692.3200  California  333962.19000\n",
       "999  161181.72      270939.860      295442.1700    New York  476485.43000\n",
       "\n",
       "[1000 rows x 5 columns]"
      ]
     },
     "execution_count": 286,
     "metadata": {},
     "output_type": "execute_result"
    }
   ],
   "source": [
    "data"
   ]
  },
  {
   "cell_type": "code",
   "execution_count": 287,
   "id": "4fbae7ef",
   "metadata": {},
   "outputs": [
    {
     "name": "stdout",
     "output_type": "stream",
     "text": [
      "<class 'pandas.core.frame.DataFrame'>\n",
      "RangeIndex: 1000 entries, 0 to 999\n",
      "Data columns (total 5 columns):\n",
      " #   Column           Non-Null Count  Dtype  \n",
      "---  ------           --------------  -----  \n",
      " 0   R&D Spend        1000 non-null   float64\n",
      " 1   Administration   1000 non-null   float64\n",
      " 2   Marketing Spend  1000 non-null   float64\n",
      " 3   State            1000 non-null   object \n",
      " 4   Profit           1000 non-null   float64\n",
      "dtypes: float64(4), object(1)\n",
      "memory usage: 39.2+ KB\n"
     ]
    }
   ],
   "source": [
    "data.info()"
   ]
  },
  {
   "cell_type": "code",
   "execution_count": 288,
   "id": "02ff5215",
   "metadata": {},
   "outputs": [
    {
     "data": {
      "text/plain": [
       "<Axes: xlabel='State', ylabel='Profit'>"
      ]
     },
     "execution_count": 288,
     "metadata": {},
     "output_type": "execute_result"
    },
    {
     "data": {
      "image/png": "[encoded data removed]",
      "text/plain": [
       "<Figure size 640x480 with 1 Axes>"
      ]
     },
     "metadata": {},
     "output_type": "display_data"
    }
   ],
   "source": [
    "sns.barplot(data = data , x = \"State\", y = \"Profit\", estimator=np.mean)"
   ]
  },
  {
   "cell_type": "code",
   "execution_count": 289,
   "id": "f26b6096",
   "metadata": {},
   "outputs": [],
   "source": [
    "# Handelling the Categorical Features\n",
    "data = pd.get_dummies(data, columns=[\"State\"], drop_first=True )"
   ]
  },
  {
   "cell_type": "code",
   "execution_count": 290,
   "id": "e1cdb6ef",
   "metadata": {},
   "outputs": [
    {
     "data": {
      "text/html": [
       "<div>\n",
       "<style scoped>\n",
       "    .dataframe tbody tr th:only-of-type {\n",
       "        vertical-align: middle;\n",
       "    }\n",
       "\n",
       "    .dataframe tbody tr th {\n",
       "        vertical-align: top;\n",
       "    }\n",
       "\n",
       "    .dataframe thead th {\n",
       "        text-align: right;\n",
       "    }\n",
       "</style>\n",
       "<table border=\"1\" class=\"dataframe\">\n",
       "  <thead>\n",
       "    <tr style=\"text-align: right;\">\n",
       "      <th></th>\n",
       "      <th>R&amp;D Spend</th>\n",
       "      <th>Administration</th>\n",
       "      <th>Marketing Spend</th>\n",
       "      <th>Profit</th>\n",
       "      <th>State_Florida</th>\n",
       "      <th>State_New York</th>\n",
       "    </tr>\n",
       "  </thead>\n",
       "  <tbody>\n",
       "    <tr>\n",
       "      <th>0</th>\n",
       "      <td>165349.20</td>\n",
       "      <td>136897.800</td>\n",
       "      <td>471784.1000</td>\n",
       "      <td>192261.83000</td>\n",
       "      <td>0</td>\n",
       "      <td>1</td>\n",
       "    </tr>\n",
       "    <tr>\n",
       "      <th>1</th>\n",
       "      <td>162597.70</td>\n",
       "      <td>151377.590</td>\n",
       "      <td>443898.5300</td>\n",
       "      <td>191792.06000</td>\n",
       "      <td>0</td>\n",
       "      <td>0</td>\n",
       "    </tr>\n",
       "    <tr>\n",
       "      <th>2</th>\n",
       "      <td>153441.51</td>\n",
       "      <td>101145.550</td>\n",
       "      <td>407934.5400</td>\n",
       "      <td>191050.39000</td>\n",
       "      <td>1</td>\n",
       "      <td>0</td>\n",
       "    </tr>\n",
       "    <tr>\n",
       "      <th>3</th>\n",
       "      <td>144372.41</td>\n",
       "      <td>118671.850</td>\n",
       "      <td>383199.6200</td>\n",
       "      <td>182901.99000</td>\n",
       "      <td>0</td>\n",
       "      <td>1</td>\n",
       "    </tr>\n",
       "    <tr>\n",
       "      <th>4</th>\n",
       "      <td>142107.34</td>\n",
       "      <td>91391.770</td>\n",
       "      <td>366168.4200</td>\n",
       "      <td>166187.94000</td>\n",
       "      <td>1</td>\n",
       "      <td>0</td>\n",
       "    </tr>\n",
       "    <tr>\n",
       "      <th>...</th>\n",
       "      <td>...</td>\n",
       "      <td>...</td>\n",
       "      <td>...</td>\n",
       "      <td>...</td>\n",
       "      <td>...</td>\n",
       "      <td>...</td>\n",
       "    </tr>\n",
       "    <tr>\n",
       "      <th>995</th>\n",
       "      <td>54135.00</td>\n",
       "      <td>118451.999</td>\n",
       "      <td>173232.6695</td>\n",
       "      <td>95279.96251</td>\n",
       "      <td>0</td>\n",
       "      <td>0</td>\n",
       "    </tr>\n",
       "    <tr>\n",
       "      <th>996</th>\n",
       "      <td>134970.00</td>\n",
       "      <td>130390.080</td>\n",
       "      <td>329204.0228</td>\n",
       "      <td>164336.60550</td>\n",
       "      <td>0</td>\n",
       "      <td>0</td>\n",
       "    </tr>\n",
       "    <tr>\n",
       "      <th>997</th>\n",
       "      <td>100275.47</td>\n",
       "      <td>241926.310</td>\n",
       "      <td>227142.8200</td>\n",
       "      <td>413956.48000</td>\n",
       "      <td>0</td>\n",
       "      <td>0</td>\n",
       "    </tr>\n",
       "    <tr>\n",
       "      <th>998</th>\n",
       "      <td>128456.23</td>\n",
       "      <td>321652.140</td>\n",
       "      <td>281692.3200</td>\n",
       "      <td>333962.19000</td>\n",
       "      <td>0</td>\n",
       "      <td>0</td>\n",
       "    </tr>\n",
       "    <tr>\n",
       "      <th>999</th>\n",
       "      <td>161181.72</td>\n",
       "      <td>270939.860</td>\n",
       "      <td>295442.1700</td>\n",
       "      <td>476485.43000</td>\n",
       "      <td>0</td>\n",
       "      <td>1</td>\n",
       "    </tr>\n",
       "  </tbody>\n",
       "</table>\n",
       "<p>1000 rows × 6 columns</p>\n",
       "</div>"
      ],
      "text/plain": [
       "     R&D Spend  Administration  Marketing Spend        Profit  State_Florida  \\\n",
       "0    165349.20      136897.800      471784.1000  192261.83000              0   \n",
       "1    162597.70      151377.590      443898.5300  191792.06000              0   \n",
       "2    153441.51      101145.550      407934.5400  191050.39000              1   \n",
       "3    144372.41      118671.850      383199.6200  182901.99000              0   \n",
       "4    142107.34       91391.770      366168.4200  166187.94000              1   \n",
       "..         ...             ...              ...           ...            ...   \n",
       "995   54135.00      118451.999      173232.6695   95279.96251              0   \n",
       "996  134970.00      130390.080      329204.0228  164336.60550              0   \n",
       "997  100275.47      241926.310      227142.8200  413956.48000              0   \n",
       "998  128456.23      321652.140      281692.3200  333962.19000              0   \n",
       "999  161181.72      270939.860      295442.1700  476485.43000              0   \n",
       "\n",
       "     State_New York  \n",
       "0                 1  \n",
       "1                 0  \n",
       "2                 0  \n",
       "3                 1  \n",
       "4                 0  \n",
       "..              ...  \n",
       "995               0  \n",
       "996               0  \n",
       "997               0  \n",
       "998               0  \n",
       "999               1  \n",
       "\n",
       "[1000 rows x 6 columns]"
      ]
     },
     "execution_count": 290,
     "metadata": {},
     "output_type": "execute_result"
    }
   ],
   "source": [
    "data"
   ]
  },
  {
   "cell_type": "code",
   "execution_count": 291,
   "id": "1ff0de87",
   "metadata": {},
   "outputs": [
    {
     "data": {
      "text/plain": [
       "R&D Spend          0\n",
       "Administration     0\n",
       "Marketing Spend    0\n",
       "Profit             0\n",
       "State_Florida      0\n",
       "State_New York     0\n",
       "dtype: int64"
      ]
     },
     "execution_count": 291,
     "metadata": {},
     "output_type": "execute_result"
    }
   ],
   "source": [
    "data.isnull().sum()"
   ]
  },
  {
   "cell_type": "code",
   "execution_count": 292,
   "id": "8850503e",
   "metadata": {},
   "outputs": [],
   "source": [
    "features = list(data.columns)"
   ]
  },
  {
   "cell_type": "code",
   "execution_count": 293,
   "id": "6c1b706e",
   "metadata": {},
   "outputs": [],
   "source": [
    "features.remove(\"Profit\")"
   ]
  },
  {
   "cell_type": "code",
   "execution_count": 294,
   "id": "3be7d878",
   "metadata": {},
   "outputs": [],
   "source": [
    "X = data[features]\n",
    "Y = data[\"Profit\"]"
   ]
  },
  {
   "cell_type": "code",
   "execution_count": 295,
   "id": "f2124fa4",
   "metadata": {},
   "outputs": [],
   "source": [
    "# Standardisation\n",
    "scaler = StandardScaler()\n",
    "X = scaler.fit_transform(X)\n",
    "X = pd.DataFrame(X, columns=features)"
   ]
  },
  {
   "cell_type": "code",
   "execution_count": 296,
   "id": "db485a93",
   "metadata": {},
   "outputs": [],
   "source": [
    "X_Train, X_Test, Y_Train, Y_Test = train_test_split(X, Y, test_size=0.20, random_state=11)"
   ]
  },
  {
   "cell_type": "code",
   "execution_count": 297,
   "id": "876eee8a",
   "metadata": {},
   "outputs": [],
   "source": [
    "model = LinearRegression()"
   ]
  },
  {
   "cell_type": "code",
   "execution_count": 298,
   "id": "a7db15f4",
   "metadata": {},
   "outputs": [
    {
     "data": {
      "text/plain": [
       "LinearRegression()"
      ]
     },
     "execution_count": 298,
     "metadata": {},
     "output_type": "execute_result"
    }
   ],
   "source": [
    "model.fit(X_Train, Y_Train)"
   ]
  },
  {
   "cell_type": "code",
   "execution_count": 299,
   "id": "16893036",
   "metadata": {},
   "outputs": [],
   "source": [
    "Y_Pred = model.predict(X_Test)"
   ]
  },
  {
   "cell_type": "code",
   "execution_count": 300,
   "id": "23e1106f",
   "metadata": {},
   "outputs": [],
   "source": [
    "df1 = pd.DataFrame({\"True\" : Y_Test, \"Predicted\" : Y_Pred})"
   ]
  },
  {
   "cell_type": "code",
   "execution_count": 301,
   "id": "7a950f0f",
   "metadata": {},
   "outputs": [
    {
     "data": {
      "text/html": [
       "<div>\n",
       "<style scoped>\n",
       "    .dataframe tbody tr th:only-of-type {\n",
       "        vertical-align: middle;\n",
       "    }\n",
       "\n",
       "    .dataframe tbody tr th {\n",
       "        vertical-align: top;\n",
       "    }\n",
       "\n",
       "    .dataframe thead th {\n",
       "        text-align: right;\n",
       "    }\n",
       "</style>\n",
       "<table border=\"1\" class=\"dataframe\">\n",
       "  <thead>\n",
       "    <tr style=\"text-align: right;\">\n",
       "      <th></th>\n",
       "      <th>True</th>\n",
       "      <th>Predicted</th>\n",
       "    </tr>\n",
       "  </thead>\n",
       "  <tbody>\n",
       "    <tr>\n",
       "      <th>25</th>\n",
       "      <td>107404.34000</td>\n",
       "      <td>116904.390495</td>\n",
       "    </tr>\n",
       "    <tr>\n",
       "      <th>464</th>\n",
       "      <td>91209.26412</td>\n",
       "      <td>91372.709591</td>\n",
       "    </tr>\n",
       "    <tr>\n",
       "      <th>372</th>\n",
       "      <td>169235.11220</td>\n",
       "      <td>169286.832762</td>\n",
       "    </tr>\n",
       "    <tr>\n",
       "      <th>730</th>\n",
       "      <td>176432.51700</td>\n",
       "      <td>176060.551920</td>\n",
       "    </tr>\n",
       "    <tr>\n",
       "      <th>757</th>\n",
       "      <td>60243.76480</td>\n",
       "      <td>61185.624468</td>\n",
       "    </tr>\n",
       "    <tr>\n",
       "      <th>...</th>\n",
       "      <td>...</td>\n",
       "      <td>...</td>\n",
       "    </tr>\n",
       "    <tr>\n",
       "      <th>278</th>\n",
       "      <td>61291.12602</td>\n",
       "      <td>61497.411137</td>\n",
       "    </tr>\n",
       "    <tr>\n",
       "      <th>449</th>\n",
       "      <td>72735.21323</td>\n",
       "      <td>72511.731872</td>\n",
       "    </tr>\n",
       "    <tr>\n",
       "      <th>221</th>\n",
       "      <td>121491.33040</td>\n",
       "      <td>121198.035314</td>\n",
       "    </tr>\n",
       "    <tr>\n",
       "      <th>741</th>\n",
       "      <td>166902.04250</td>\n",
       "      <td>167691.178631</td>\n",
       "    </tr>\n",
       "    <tr>\n",
       "      <th>572</th>\n",
       "      <td>54060.40386</td>\n",
       "      <td>53863.662859</td>\n",
       "    </tr>\n",
       "  </tbody>\n",
       "</table>\n",
       "<p>200 rows × 2 columns</p>\n",
       "</div>"
      ],
      "text/plain": [
       "             True      Predicted\n",
       "25   107404.34000  116904.390495\n",
       "464   91209.26412   91372.709591\n",
       "372  169235.11220  169286.832762\n",
       "730  176432.51700  176060.551920\n",
       "757   60243.76480   61185.624468\n",
       "..            ...            ...\n",
       "278   61291.12602   61497.411137\n",
       "449   72735.21323   72511.731872\n",
       "221  121491.33040  121198.035314\n",
       "741  166902.04250  167691.178631\n",
       "572   54060.40386   53863.662859\n",
       "\n",
       "[200 rows x 2 columns]"
      ]
     },
     "execution_count": 301,
     "metadata": {},
     "output_type": "execute_result"
    }
   ],
   "source": [
    "df1"
   ]
  },
  {
   "cell_type": "code",
   "execution_count": 302,
   "id": "f1f79b2c",
   "metadata": {},
   "outputs": [
    {
     "data": {
      "text/plain": [
       "0.9127019583294275"
      ]
     },
     "execution_count": 302,
     "metadata": {},
     "output_type": "execute_result"
    }
   ],
   "source": [
    "r2_score(y_true=Y_Test, y_pred=Y_Pred)"
   ]
  },
  {
   "cell_type": "code",
   "execution_count": 303,
   "id": "7f770239",
   "metadata": {},
   "outputs": [
    {
     "data": {
      "text/plain": [
       "<Axes: xlabel='True', ylabel='Predicted'>"
      ]
     },
     "execution_count": 303,
     "metadata": {},
     "output_type": "execute_result"
    },
    {
     "data": {
      "image/png": "[encoded data removed]",
      "text/plain": [
       "<Figure size 640x480 with 1 Axes>"
      ]
     },
     "metadata": {},
     "output_type": "display_data"
    }
   ],
   "source": [
    "sns.scatterplot(data= df1, x= \"True\", y = \"Predicted\")\n",
    "sns.lineplot(x = [50000, 500000], y = [50000, 500000], color = 'red')"
   ]
  },
  {
   "cell_type": "markdown",
   "id": "e6f96f3b",
   "metadata": {},
   "source": [
    "# Regression Analysis"
   ]
  },
  {
   "cell_type": "code",
   "execution_count": 304,
   "id": "82e34269",
   "metadata": {},
   "outputs": [],
   "source": [
    "X_Const = sm.add_constant(X)\n",
    "model = sm.OLS(Y, X_Const)"
   ]
  },
  {
   "cell_type": "code",
   "execution_count": 305,
   "id": "da6d18f7",
   "metadata": {},
   "outputs": [],
   "source": [
    "results= model.fit()"
   ]
  },
  {
   "cell_type": "code",
   "execution_count": 306,
   "id": "e5da8dd5",
   "metadata": {},
   "outputs": [
    {
     "name": "stdout",
     "output_type": "stream",
     "text": [
      "                            OLS Regression Results                            \n",
      "==============================================================================\n",
      "Dep. Variable:                 Profit   R-squared:                       0.950\n",
      "Model:                            OLS   Adj. R-squared:                  0.950\n",
      "Method:                 Least Squares   F-statistic:                     3769.\n",
      "Date:                Tue, 26 Dec 2023   Prob (F-statistic):               0.00\n",
      "Time:                        13:24:12   Log-Likelihood:                -10588.\n",
      "No. Observations:                1000   AIC:                         2.119e+04\n",
      "Df Residuals:                     994   BIC:                         2.122e+04\n",
      "Df Model:                           5                                         \n",
      "Covariance Type:            nonrobust                                         \n",
      "===================================================================================\n",
      "                      coef    std err          t      P>|t|      [0.025      0.975]\n",
      "-----------------------------------------------------------------------------------\n",
      "const            1.195e+05    304.354    392.787      0.000    1.19e+05     1.2e+05\n",
      "R&D Spend        2.573e+04   1619.018     15.892      0.000    2.26e+04    2.89e+04\n",
      "Administration   1.294e+04    391.907     33.014      0.000    1.22e+04    1.37e+04\n",
      "Marketing Spend  7422.0266   1541.816      4.814      0.000    4396.439    1.04e+04\n",
      "State_Florida    -208.5556    349.247     -0.597      0.551    -893.901     476.790\n",
      "State_New York     46.0922    348.790      0.132      0.895    -638.356     730.540\n",
      "==============================================================================\n",
      "Omnibus:                     1577.782   Durbin-Watson:                   1.690\n",
      "Prob(Omnibus):                  0.000   Jarque-Bera (JB):          1032877.855\n",
      "Skew:                           9.327   Prob(JB):                         0.00\n",
      "Kurtosis:                     159.336   Cond. No.                         11.4\n",
      "==============================================================================\n",
      "\n",
      "Notes:\n",
      "[1] Standard Errors assume that the covariance matrix of the errors is correctly specified.\n"
     ]
    }
   ],
   "source": [
    "print(results.summary())"
   ]
  },
  {
   "cell_type": "markdown",
   "id": "f2d233c0",
   "metadata": {},
   "source": [
    "# F- Statistic"
   ]
  },
  {
   "cell_type": "markdown",
   "id": "ee8f2843",
   "metadata": {},
   "source": [
    "The F-Statistic informs us about whether the Independent Variables (R&D Expense, Admin Expense, Marketing Spend, State) offer a better fit, or if it is akin to predicting Profit using the Mean of Profit. It indicates the overall significance, revealing whether Profit is genuinely dependent on the input features in the population, or if the relationship merely exists in the sample.\n",
    "\n",
    "Observing the p-value (Probability of F-statistic), which is 0.00, significantly lower than the significance level of 0.05, suggests a strong relationship exists in the population.\n",
    "\n",
    "\n",
    "\n",
    "\n",
    "\n",
    "\n"
   ]
  },
  {
   "cell_type": "markdown",
   "id": "8737109a",
   "metadata": {},
   "source": [
    "# R Squared"
   ]
  },
  {
   "cell_type": "markdown",
   "id": "2b89af7f",
   "metadata": {},
   "source": [
    "The F-Statistic informs us that a relationship does exist in the population. However, the strength of this relationship is elucidated by R Squared and Adjusted R Squared. A 95% value for R Squared suggests that 95% of the variance in Profit (the output column) is explained by the input columns, indicating a very strong relationship.\n",
    "\n",
    "The lack of difference between R Squared and Adjusted R Squared suggests that there are no irrelevant input features; all the input features are relevant in predicting the output feature."
   ]
  },
  {
   "cell_type": "markdown",
   "id": "b623cee8",
   "metadata": {},
   "source": [
    "# Effect of Individiual Columns on Prediting the Output Features"
   ]
  },
  {
   "cell_type": "markdown",
   "id": "14422d73",
   "metadata": {},
   "source": [
    "Most columns have a p-value of 0, except for the State columns. Florida State has a p-value of 59.7%, and New York has 89.5%. The p-value indicates the likelihood that a column has no effect on the output column. The high p-values for the State columns suggest that the State does not significantly affect the output columns. This implies that for the State columns, the coefficients' values are not at all significant. In contrast, for the other columns, the State variables are significant."
   ]
  },
  {
   "cell_type": "markdown",
   "id": "d3cbe0e4",
   "metadata": {},
   "source": [
    "# Conclusion:"
   ]
  },
  {
   "cell_type": "markdown",
   "id": "7a635963",
   "metadata": {},
   "source": [
    "Thus, we conclude that a 1-standard deviation increase (since we have standardized the input columns) in R&D Expenditure will increase profit by approximately 25,730. Similarly, a 1-standard deviation increase in Administrative Cost will boost profit by 12,940, and a 1-standard deviation increase in Marketing Expense will lead to an increase in profit by 7,422."
   ]
  }
 ],
 "metadata": {
  "kernelspec": {
   "display_name": "Python 3 (ipykernel)",
   "language": "python",
   "name": "python3"
  },
  "language_info": {
   "codemirror_mode": {
    "name": "ipython",
    "version": 3
   },
   "file_extension": ".py",
   "mimetype": "text/x-python",
   "name": "python",
   "nbconvert_exporter": "python",
   "pygments_lexer": "ipython3",
   "version": "3.9.13"
  }
 },
 "nbformat": 4,
 "nbformat_minor": 5
}
